{
  "nbformat": 4,
  "nbformat_minor": 0,
  "metadata": {
    "colab": {
      "provenance": []
    },
    "kernelspec": {
      "name": "python3",
      "display_name": "Python 3"
    },
    "language_info": {
      "name": "python"
    }
  },
  "cells": [
    {
      "cell_type": "code",
      "execution_count": 1,
      "metadata": {
        "colab": {
          "base_uri": "https://localhost:8080/"
        },
        "id": "-n5PZmp6H-r_",
        "outputId": "0d083a52-2ed6-443a-cc3a-4eac039fddf4"
      },
      "outputs": [
        {
          "output_type": "stream",
          "name": "stdout",
          "text": [
            "Merhaba Python Algoritma Sınıfı\n"
          ]
        }
      ],
      "source": [
        "print(\"Merhaba Python Algoritma Sınıfı\")"
      ]
    },
    {
      "cell_type": "markdown",
      "source": [
        "string bilgi türü - > metinsel ifadedir.     \n",
        "integer bilgi türü - >sayısal ifadedir."
      ],
      "metadata": {
        "id": "U6zD3fKoLBw7"
      }
    },
    {
      "cell_type": "code",
      "source": [
        "import sys #import python programlama dilinde kütüphane eklemeye yarayan bir kod blogudur.\n",
        "print(sys.version)"
      ],
      "metadata": {
        "colab": {
          "base_uri": "https://localhost:8080/"
        },
        "id": "0HwLfOxUMMbs",
        "outputId": "90b80bd0-2b23-494b-d239-8d26335fa920"
      },
      "execution_count": 2,
      "outputs": [
        {
          "output_type": "stream",
          "name": "stdout",
          "text": [
            "3.11.11 (main, Dec  4 2024, 08:55:07) [GCC 11.4.0]\n"
          ]
        }
      ]
    },
    {
      "cell_type": "code",
      "source": [
        "from google.colab import drive\n",
        "drive.mount('/content/drive')"
      ],
      "metadata": {
        "colab": {
          "base_uri": "https://localhost:8080/"
        },
        "id": "mDHD3v3uNNH9",
        "outputId": "49dfd104-7e88-4c5d-c7e5-eb06bad4139a"
      },
      "execution_count": 3,
      "outputs": [
        {
          "output_type": "stream",
          "name": "stdout",
          "text": [
            "Mounted at /content/drive\n"
          ]
        }
      ]
    },
    {
      "cell_type": "code",
      "source": [
        "import os\n",
        "os.chdir('/content/drive/My Drive/ALGORIYMALAR_MYO')"
      ],
      "metadata": {
        "id": "7ZJQei7DPcDy"
      },
      "execution_count": 8,
      "outputs": []
    }
  ]
}