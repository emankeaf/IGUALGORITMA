{
  "nbformat": 4,
  "nbformat_minor": 0,
  "metadata": {
    "colab": {
      "provenance": []
    },
    "kernelspec": {
      "name": "python3",
      "display_name": "Python 3"
    },
    "language_info": {
      "name": "python"
    }
  },
  "cells": [
    {
      "cell_type": "code",
      "execution_count": 2,
      "metadata": {
        "colab": {
          "base_uri": "https://localhost:8080/"
        },
        "id": "MGiQyw46Xchp",
        "outputId": "32e305b9-be75-4927-d853-e6d74937fb49"
      },
      "outputs": [
        {
          "output_type": "stream",
          "name": "stdout",
          "text": [
            "Merhaba Python Algoritma Sınıfı\n"
          ]
        }
      ],
      "source": [
        "print(\"Merhaba Python Algoritma Sınıfı\")"
      ]
    },
    {
      "cell_type": "code",
      "source": [
        "import sys #import python programlama dilinde kütüphane eklemeye yarayan bir kod blogudur.\n",
        "print(sys.version)"
      ],
      "metadata": {
        "colab": {
          "base_uri": "https://localhost:8080/"
        },
        "id": "n5E9oJwwYDKa",
        "outputId": "09d0f4f1-ebfd-484f-e034-ce254f8e5b2f"
      },
      "execution_count": 3,
      "outputs": [
        {
          "output_type": "stream",
          "name": "stdout",
          "text": [
            "3.11.11 (main, Dec  4 2024, 08:55:07) [GCC 11.4.0]\n"
          ]
        }
      ]
    },
    {
      "cell_type": "code",
      "source": [
        "from google.colab import drive\n",
        "drive.mount('/content/drive')"
      ],
      "metadata": {
        "colab": {
          "base_uri": "https://localhost:8080/"
        },
        "id": "e5MELsV3YFjK",
        "outputId": "fe5841b9-0c58-4d94-957f-792fbd0743bb"
      },
      "execution_count": 4,
      "outputs": [
        {
          "output_type": "stream",
          "name": "stdout",
          "text": [
            "Mounted at /content/drive\n"
          ]
        }
      ]
    },
    {
      "cell_type": "code",
      "source": [
        "import os\n",
        "os.chdir('/content/drive/My Drive/ALGORIYMALAR_MYO')"
      ],
      "metadata": {
        "id": "ZQw8ojMSYL5I"
      },
      "execution_count": 5,
      "outputs": []
    },
    {
      "cell_type": "markdown",
      "source": [
        "VERİ YAPILARI ve TİPLERİ\n",
        "\n",
        "Veri Yapıları nedir? Veri yapıları, verilerin organize edilmesinde ve saklanırken türlerini tanımlar. Bu yapılar, verilerin etkin bir şekilde kullanımı - işlenmesini sağlamaktadır.\n",
        "\n",
        "Buradaki ilk kural değişken isimlendirme kurallarının kavranmasıdır.\n",
        "1- Değişken ismi arasında boşluk bilgisi kesinlikle olmamalıdır.\n",
        "2- Özel karakter kesinlikle eklenmemelidir.\n",
        "3- Değişkenlerde Türkçe Karakter kullanılmamalıdır\n",
        "4- Döngü ve Kontrol yapılarının isimleri değişken olamaz (if, for, while)\n",
        "5- Büyük ve Küçük harf duyarlılığı unutulmamalıdır."
      ],
      "metadata": {
        "id": "Dh2PlPJZZiHv"
      }
    },
    {
      "cell_type": "markdown",
      "source": [
        "Veri Tipleri\n",
        "\n",
        "1-Integer - Tamsayı tanımlaması\n",
        "2-Float - Ondalıklı Sayı tanımlaması\n",
        "3-String - Metinsel içerik tanımlaması\n",
        "4-Boolean (True - False) - Doğru / Yanlış tanımlaması\n",
        "5-List - Liste tanımlaması\n",
        "6-Tuple - Demet tanımlaması\n",
        "7-Dictionary - Sözlük tanımlaması\n",
        "8-Set - Küme tanımlaması"
      ],
      "metadata": {
        "id": "9gT57POyZznh"
      }
    },
    {
      "cell_type": "code",
      "source": [
        "# geçerli bir değişken tanımı\n",
        "\n",
        "degisken1 = 10\n",
        "\n",
        "Degisken2 = 20\n",
        "\n",
        "degisken_3 = 30\n",
        "\n",
        "_degisken_4 = 40\n",
        "\n",
        "print(degisken1)\n",
        "print(Degisken2)\n",
        "print(degisken_3+10)\n",
        "print(_degisken_4)"
      ],
      "metadata": {
        "colab": {
          "base_uri": "https://localhost:8080/"
        },
        "id": "-P3zfEXGcffo",
        "outputId": "4fcffd18-dabb-4e2e-b391-1338d5ab0906"
      },
      "execution_count": 9,
      "outputs": [
        {
          "output_type": "stream",
          "name": "stdout",
          "text": [
            "10\n",
            "20\n",
            "40\n",
            "40\n"
          ]
        }
      ]
    },
    {
      "cell_type": "code",
      "source": [
        "#gecersiz değişken tanımlaması\n",
        "\n",
        "1degisken = 50\n",
        "\n",
        "degisken1-4 = 50\n"
      ],
      "metadata": {
        "colab": {
          "base_uri": "https://localhost:8080/",
          "height": 106
        },
        "id": "rOFN34d_enTB",
        "outputId": "80090ce4-a9d4-4d46-e6f4-4a69110c6789"
      },
      "execution_count": 12,
      "outputs": [
        {
          "output_type": "error",
          "ename": "SyntaxError",
          "evalue": "cannot assign to expression here. Maybe you meant '==' instead of '='? (<ipython-input-12-fe1411895bc2>, line 5)",
          "traceback": [
            "\u001b[0;36m  File \u001b[0;32m\"<ipython-input-12-fe1411895bc2>\"\u001b[0;36m, line \u001b[0;32m5\u001b[0m\n\u001b[0;31m    degisken1-4 = 50\u001b[0m\n\u001b[0m    ^\u001b[0m\n\u001b[0;31mSyntaxError\u001b[0m\u001b[0;31m:\u001b[0m cannot assign to expression here. Maybe you meant '==' instead of '='?\n"
          ]
        }
      ]
    },
    {
      "cell_type": "markdown",
      "source": [
        "değişken sayıyla başlamaz\n",
        "işlemler atama bölgesşnde yapılamaz"
      ],
      "metadata": {
        "id": "mWwtaRUufYYW"
      }
    },
    {
      "cell_type": "code",
      "source": [
        "x = 5\n",
        "\n",
        "y = \"Merhaba Dünya\"\n",
        "\n",
        "print(x)\n",
        "\n",
        "print(y)\n"
      ],
      "metadata": {
        "colab": {
          "base_uri": "https://localhost:8080/"
        },
        "id": "y9cs-Tl6fvCs",
        "outputId": "18d85405-2777-45b9-fae5-3f2a0033566f"
      },
      "execution_count": 13,
      "outputs": [
        {
          "output_type": "stream",
          "name": "stdout",
          "text": [
            "5\n",
            "Merhaba Dünya\n"
          ]
        }
      ]
    }
  ]
}