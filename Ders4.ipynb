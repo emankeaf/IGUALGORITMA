{
  "nbformat": 4,
  "nbformat_minor": 0,
  "metadata": {
    "colab": {
      "provenance": []
    },
    "kernelspec": {
      "name": "python3",
      "display_name": "Python 3"
    },
    "language_info": {
      "name": "python"
    }
  },
  "cells": [
    {
      "cell_type": "code",
      "execution_count": 5,
      "metadata": {
        "colab": {
          "base_uri": "https://localhost:8080/"
        },
        "id": "CO6FUVOib_Tt",
        "outputId": "5cd6f462-2c35-4991-fdfb-7098ae5401f6"
      },
      "outputs": [
        {
          "output_type": "stream",
          "name": "stdout",
          "text": [
            "4\n",
            "3.14159\n",
            "Python - Veri Yapıları ve Uygulamalar\n",
            "True\n",
            "False\n"
          ]
        }
      ],
      "source": [
        "Ders_no = 4 # İnteger (int) Veri Türü\n",
        "pi_sayısı = 3.14159 # Float 8Float.9 veri Türü\n",
        "Dersin_ismi = \"Python - Veri Yapıları ve Uygulamalar\" # String - Metinsel bilgi türü\n",
        "durum1 = True  # Bool değişken veri türü\n",
        "durum2 = False # Bool değişken veri türü\n",
        "\n",
        "print(Ders_no)\n",
        "print(pi_sayısı)\n",
        "print(Dersin_ismi)\n",
        "print(durum1)\n",
        "print(durum2)\n"
      ]
    },
    {
      "cell_type": "code",
      "source": [],
      "metadata": {
        "id": "2pHJdkmMfyW1"
      },
      "execution_count": null,
      "outputs": []
    },
    {
      "cell_type": "code",
      "source": [
        "a = 7\n",
        "b = 3\n",
        "\n",
        "print(\"Toplama\", a+b)\n",
        "print(\"Üs Alma\",a**b )\n",
        "print(\"Mod Alma\",a%b)\n",
        "print( \"a == b:\", a == b)\n",
        "print(\"a > b :\", a > b )"
      ],
      "metadata": {
        "colab": {
          "base_uri": "https://localhost:8080/"
        },
        "id": "qyNE4BOjfCMg",
        "outputId": "624da8be-0f45-44a1-c4b4-bb8ab387699d"
      },
      "execution_count": 4,
      "outputs": [
        {
          "output_type": "stream",
          "name": "stdout",
          "text": [
            "Toplama 10\n",
            "Üs Alma 343\n",
            "Mod Alma 1\n",
            "a == b: False\n",
            "a > b : True\n"
          ]
        }
      ]
    },
    {
      "cell_type": "code",
      "source": [
        "a = True # True - Doğru - 1\n",
        "b = False # False - Yanlış - 0\n",
        "\n",
        "print(\"a ve_kapısı b:\", a and b)\n",
        "print(\"a veya_kapısı b:\", a or b)\n",
        "print(\"a degiskenin tersliyoruz:\", not a)"
      ],
      "metadata": {
        "colab": {
          "base_uri": "https://localhost:8080/"
        },
        "id": "8nrcAox_hryw",
        "outputId": "715268c1-af62-48c5-af3b-093e7c10fd86"
      },
      "execution_count": 6,
      "outputs": [
        {
          "output_type": "stream",
          "name": "stdout",
          "text": [
            "a ve_kapısı b: False\n",
            "a veya_kapısı b: True\n",
            "a degiskenin tersliyoruz: False\n"
          ]
        }
      ]
    },
    {
      "cell_type": "code",
      "source": [
        "x = 7\n",
        "y = 4\n",
        "\n",
        "x += 3 # x = x + 3\n",
        "y -= 3 # y = y - 3\n",
        "\n",
        "print(x)\n",
        "print(y)\n",
        ""
      ],
      "metadata": {
        "colab": {
          "base_uri": "https://localhost:8080/"
        },
        "id": "iYmilk00iBNC",
        "outputId": "d9948fd0-1d4e-47a4-ecee-f600eb36334d"
      },
      "execution_count": 7,
      "outputs": [
        {
          "output_type": "stream",
          "name": "stdout",
          "text": [
            "10\n",
            "1\n"
          ]
        }
      ]
    },
    {
      "cell_type": "code",
      "source": [
        "a = 7\n",
        "b = 3\n",
        "\n",
        "print(a & b)\n",
        "print(a | b)\n",
        "print(a ^ b)"
      ],
      "metadata": {
        "colab": {
          "base_uri": "https://localhost:8080/"
        },
        "id": "9KOVOiaXnxHJ",
        "outputId": "40783fb3-9291-4f53-97ad-420a11fd3644"
      },
      "execution_count": 8,
      "outputs": [
        {
          "output_type": "stream",
          "name": "stdout",
          "text": [
            "3\n",
            "7\n",
            "4\n"
          ]
        }
      ]
    },
    {
      "cell_type": "markdown",
      "source": [
        "(3210)2 7 = 0111 3 = 0011\n",
        "& = (0011)2 = (3)10\n",
        "\n",
        "\n",
        "(3210)2 7 = 0111 3 = 0011\n",
        "| = (0111)2 = (7)10\n",
        "\n",
        "\n",
        "(3210)2 7 = 0111 3 = 0011\n",
        "^ = (0100)2 = (4)10"
      ],
      "metadata": {
        "id": "1d25RHaToqkh"
      }
    },
    {
      "cell_type": "code",
      "source": [],
      "metadata": {
        "id": "jB03T1mOqhYk"
      },
      "execution_count": null,
      "outputs": []
    }
  ]
}